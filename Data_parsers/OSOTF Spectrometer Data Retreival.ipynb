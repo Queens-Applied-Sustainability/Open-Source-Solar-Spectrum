{
 "metadata": {
  "name": ""
 },
 "nbformat": 3,
 "nbformat_minor": 0,
 "worksheets": [
  {
   "cells": [
    {
     "cell_type": "code",
     "collapsed": false,
     "input": [
      "import pandas as pd\n",
      "import fnmatch\n",
      "import glob\n",
      "import os\n",
      "import time\n",
      "import pdb"
     ],
     "language": "python",
     "metadata": {},
     "outputs": []
    },
    {
     "cell_type": "code",
     "collapsed": false,
     "input": [
      "def setangle(df):\n",
      "    '''\n",
      "    Set the angle of the measurement based on the location of the measurement relative to the \n",
      "    first hour. Assumes the scan starts at 90 degrees and proceeds to 0. \n",
      "    '''\n",
      "    prevhr=df.index[0].hour\n",
      "    angle=100\n",
      "    for n in range(shape(df)[0]):\n",
      "    \n",
      "        hrmarker=df.index.hour[n]        \n",
      "        if hrmarker==prevhr:\n",
      "            angle=angle-10\n",
      "            df.Position.ix[n]=angle\n",
      "            \n",
      "        else:\n",
      "            angle=90\n",
      "            df.Position.ix[n]=angle\n",
      "            prevhr=hrmarker\n",
      "    return df\n"
     ],
     "language": "python",
     "metadata": {},
     "outputs": []
    },
    {
     "cell_type": "code",
     "collapsed": false,
     "input": [
      "def calc_energy(dfrow):\n",
      "    '''\n",
      "    Calculates the energy in each row of the master dataframe, which can be compared to pyranometer readins\n",
      "    '''\n",
      "    dfrow[isnan(dfrow)]=0\n",
      "    return np.trapz(dfrow.values,dfrow.index.values)/100"
     ],
     "language": "python",
     "metadata": {},
     "outputs": []
    },
    {
     "cell_type": "code",
     "collapsed": false,
     "input": [
      "def dailynorm(x):\n",
      "    '''\n",
      "    This function performs a dark calibration for each recorded day. \n",
      "    \n",
      "    The 90 degree reading at midnight is assumed to be the dark condition, and this is subtracted\n",
      "    from every reading made that day. This significantly reduces scatter, and the effects of calibration\n",
      "    drift over time. \n",
      "    '''\n",
      "    fillrow=x.iloc[0]\n",
      "    x=x-fillrow\n",
      "    return x"
     ],
     "language": "python",
     "metadata": {},
     "outputs": []
    },
    {
     "cell_type": "code",
     "collapsed": false,
     "input": [
      "def loaddf(date):\n",
      "    '''\n",
      "    Loads a dataframe of IR and visible data given its date string. \n",
      "    '''\n",
      "    print date\n",
      "    #Attempt to load both files\n",
      "    try:\n",
      "        xl_vis=pd.ExcelFile('Visible'+date[0]+'.xls')\n",
      "        xl_IR=pd.ExcelFile('Infared'+date[0]+'.xls')\n",
      "    except:\n",
      "        print 'no file'\n",
      "        return 0\n",
      "    #Ensure naming convention was proper- Some names were applied reversed\n",
      "    \n",
      "    if xl_vis.sheet_names[0]=='F1':\n",
      "        data=pd.read_excel('Visible'+date[0]+'.xls','F1',index_col=0,header=0)\n",
      "        data=data[2:]\n",
      "    elif xl_vis.sheet_names[0]=='F2':\n",
      "        dataIR=pd.read_excel('Visible'+date[0]+'.xls','F2',index_col=0,header=0)\n",
      "        dataIR=dataIR[2:]\n",
      "\n",
      "    else:\n",
      "        print 'Unrecognized sheet'\n",
      "        return 0\n",
      "    \n",
      "    if str(type(data.columns))==\"<class 'pandas.core.index.Index'>\": #check if empty\n",
      "       return 0\n",
      "    #Attempt to load Infrared portion of file\n",
      "    \n",
      "    if xl_IR.sheet_names[0]=='F1':\n",
      "        data=pd.read_excel('Infared'+date[0]+'.xls','F1',index_col=0,header=0)\n",
      "        data=data[2:]\n",
      "        \n",
      "    elif xl_IR.sheet_names[0]=='F2':\n",
      "        dataIR=pd.read_excel('Infared'+date[0]+'.xls','F2',index_col=0,header=0)\n",
      "        dataIR=dataIR[2:]\n",
      "\n",
      "    else:\n",
      "        print 'Unrecognized sheet'\n",
      "        return 0\n",
      "        \n",
      "    if str(type(dataIR.columns))==\"<class 'pandas.core.index.Index'>\": #check if empty\n",
      "       return 0\n",
      "    \n",
      "    \n",
      "    data=data.transpose()\n",
      "    data['Position']=np.NaN\n",
      "    data=setangle(data) #Set the angle based on relative time from the initiation of scan\n",
      "    # This rounds the index to the nearest hour, which ensures that the dataframes match when joined\n",
      "    data.index=pd.DatetimeIndex(((data.index.asi8/(1e9*60*60)).round()*1e9*60*60).astype(np.int64)) #Round to nearest hour\n",
      "    # Create the multiindex from columns of Date and Position\n",
      "    data.index=pd.MultiIndex.from_arrays([data.index,data.Position], names=['Date','Position'])\n",
      "    del data['Position']\n",
      "    \n",
      "    \n",
      "    dataIR=dataIR.transpose()\n",
      "    dataIR['Position']=np.NaN\n",
      "    dataIR=setangle(dataIR)\n",
      "    dataIR.index=pd.DatetimeIndex(((dataIR.index.asi8/(1e9*60*60)).round()*1e9*60*60).astype(np.int64)) #Round to nearest hour\n",
      "    dataIR.index=pd.MultiIndex.from_arrays([dataIR.index,dataIR.Position], names=['Date','Position'])\n",
      "    del dataIR['Position']\n",
      "    \n",
      "    #Join the arrays using a dataframe merge, on the multiindex. \n",
      "    joined=pd.merge(data.reset_index(),dataIR.reset_index(),on=['Date','Position'],how='inner').set_index(['Date','Position'])\n",
      "\n",
      "    return joined\n"
     ],
     "language": "python",
     "metadata": {},
     "outputs": []
    },
    {
     "cell_type": "heading",
     "level": 1,
     "metadata": {},
     "source": [
      "Import all spectral files"
     ]
    },
    {
     "cell_type": "code",
     "collapsed": false,
     "input": [
      "import time \n",
      "import re\n",
      "files=glob.glob('Filtered/Visible*')\n",
      "filedates=[re.findall('[0-9,-]+', entry) for entry in files]\n",
      "master=loaddf(filedates[10])\n",
      "for date in filedates:\n",
      "    df=loaddf(date)\n",
      "    if type(df) != int:\n",
      "        master=master.append(df)\n"
     ],
     "language": "python",
     "metadata": {},
     "outputs": []
    },
    {
     "cell_type": "code",
     "collapsed": false,
     "input": [
      "stre=pd.HDFStore('Master_spec.h5')\n",
      "\n",
      "master=stre['Raw_Spec']\n",
      "#stre['Raw_Spec']=master\n",
      "stre.close()"
     ],
     "language": "python",
     "metadata": {},
     "outputs": []
    },
    {
     "cell_type": "code",
     "collapsed": false,
     "input": [
      "master=master.reset_index().set_index('Date') #Set index to date only\n",
      "\n",
      "#There was a portion of measurements which were shifted back by 12 hours, this code\n",
      "#creates thee dataframes, shifts the middle dataframe containing the erronious data\n",
      "#and combines them together. \n",
      "\n",
      "Front=master[str(master.index[0]):'Feb 24, 2013']\n",
      "Mid=master['Feb 25, 2013':'April 22, 2013'].shift(12,freq='H')\n",
      "End=master['April 24, 2013':str(master.index[-1])]\n",
      "master=Front.append(Mid).append(End)\n",
      "Front=[]\n",
      "Mid=[]\n",
      "End=[]\n",
      "master=master.reset_index().set_index(['Date','Position'])"
     ],
     "language": "python",
     "metadata": {},
     "outputs": []
    },
    {
     "cell_type": "heading",
     "level": 1,
     "metadata": {},
     "source": [
      "Apply a daily dark correction"
     ]
    },
    {
     "cell_type": "markdown",
     "metadata": {},
     "source": [
      "Based on the value collected at 90 degrees at 1:00 am each day"
     ]
    },
    {
     "cell_type": "code",
     "collapsed": false,
     "input": [
      "#Split out the date column into date and hour bins, and re-index\n",
      "master=master.reset_index()\n",
      "master['Hour']=pd.DataFrame(master.Date).set_index('Date').index.hour\n",
      "master['Date']=pd.DataFrame(master.Date).set_index('Date').index.date\n",
      "master=master.set_index(['Date','Hour','Position'])\n",
      "\n",
      "master=master.groupby(level=0).transform(dailynorm) #groupby day and apply a daily correction factor\n",
      "\n",
      "master=master.drop_duplicates() #transform is called twice on first iteration, causing duplicates of the rows to be formed\n",
      "\n",
      "#reset index to original layout\n",
      "master=master.reset_index()\n",
      "master['Date']=master.apply(lambda x: datetime.datetime.combine(x.Date,datetime.time(x.Hour,0,0)),axis=1)\n",
      "del master['Hour']\n",
      "master=master.set_index(['Date','Position'])\n",
      "\n",
      "master=master.sortlevel(0) #Apply sorting required for loc access\n",
      "\n"
     ],
     "language": "python",
     "metadata": {},
     "outputs": []
    },
    {
     "cell_type": "heading",
     "level": 1,
     "metadata": {},
     "source": [
      "Output Spectral files to .csv and .h5"
     ]
    },
    {
     "cell_type": "code",
     "collapsed": false,
     "input": [
      "master.to_csv('Master_spec.csv')\n",
      "\n",
      "stre=pd.HDFStore('Master_spec.h5')\n",
      "\n",
      "#master=stre['Spec']  #Use this option to load\n",
      "stre['Spec']=master\n",
      "stre.close()"
     ],
     "language": "python",
     "metadata": {},
     "outputs": []
    },
    {
     "cell_type": "heading",
     "level": 1,
     "metadata": {},
     "source": [
      "Plot an arbitrary spectrum "
     ]
    },
    {
     "cell_type": "code",
     "collapsed": false,
     "input": [
      "master.xs([datetime.datetime(2012,11,6,12),90],level=['Date','Position']).transpose().plot()"
     ],
     "language": "python",
     "metadata": {},
     "outputs": []
    },
    {
     "cell_type": "markdown",
     "metadata": {},
     "source": [
      "apply a rolling mean to smooth out error"
     ]
    },
    {
     "cell_type": "code",
     "collapsed": false,
     "input": [
      "date=datetime.datetime(2014,4,6,12)\n",
      "\n",
      "pd.rolling_mean(master.xs([90,date],level=['Position','Date']).transpose(),10).plot()"
     ],
     "language": "python",
     "metadata": {},
     "outputs": []
    },
    {
     "cell_type": "heading",
     "level": 1,
     "metadata": {},
     "source": [
      "Calculate summary info for the spectra"
     ]
    },
    {
     "cell_type": "code",
     "collapsed": false,
     "input": [
      "#Initialize the Summary_info dataframe\n",
      "Summary_info=pd.DataFrame(master.apply(calc_energy,axis=1),columns=['Spectral_energy'])\n",
      "\n",
      "Summary_info['Pyranometer_Global']=np.NaN\n",
      "Summary_info['Pyranometer_Diffuse']=np.NaN\n",
      "Summary_info['Pyranometer_57Degree']=np.NaN\n",
      "Summary_info['RH']=np.NaN\n",
      "Summary_info['Temp']=np.NaN\n",
      "Summary_info['WS']=np.NaN\n",
      "Summary_info['Zenith']=np.NaN\n",
      "Summary_info['Azimuth']=np.NaN\n",
      "Summary_info['5_deg_isc']=np.NaN\n",
      "Summary_info['10_deg_isc']=np.NaN\n",
      "Summary_info['15_deg_isc']=np.NaN\n",
      "Summary_info['20_deg_isc']=np.NaN\n",
      "Summary_info['25_deg_isc']=np.NaN\n",
      "Summary_info['30_deg_isc']=np.NaN\n",
      "Summary_info['40_deg_isc']=np.NaN\n",
      "Summary_info['50_deg_isc']=np.NaN\n",
      "Summary_info['57_deg_isc']=np.NaN\n"
     ],
     "language": "python",
     "metadata": {},
     "outputs": []
    },
    {
     "cell_type": "heading",
     "level": 1,
     "metadata": {},
     "source": [
      "Import OSOTF data"
     ]
    },
    {
     "cell_type": "markdown",
     "metadata": {},
     "source": [
      "This code requires that a path to the OSOTF .h5 file be added "
     ]
    },
    {
     "cell_type": "code",
     "collapsed": false,
     "input": [
      "\n",
      "storepath=#Add location of OSOTF .h5 file\n",
      "\n",
      "stre=pd.HDFStore(storepath)\n",
      "data=stre['WT']\n",
      "stre.close()\n",
      "\n",
      "if max(data.Azimuth>185):\n",
      "    data.Azimuth=data.Azimuth-180\n",
      "data.Zenith[data.Zenith>=89]=np.NaN\n",
      "\n"
     ],
     "language": "python",
     "metadata": {},
     "outputs": []
    },
    {
     "cell_type": "code",
     "collapsed": false,
     "input": [
      "index=Summary_info.index.levels[0]\n",
      "i=index[10]\n",
      "dat=data.ix[i]\n",
      "\n",
      "for i in Summary_info.index.levels[0]:\n",
      "    #print i\n",
      "    dat=data.ix[i]\n",
      "    Summary_info['Pyranometer_Global'].loc[i]=dat.SlrW_Avg\n",
      "    Summary_info['Pyranometer_Diffuse'].loc[i]=dat.Diffuse_Cor_fill\n",
      "    Summary_info['Pyranometer_57Degree'].loc[i]=dat.SlrW_2_Avg\n",
      "    Summary_info['RH'].loc[i]=dat.RH\n",
      "    Summary_info['Temp'].loc[i]=dat.AirTC_Avg\n",
      "    Summary_info['WS'].loc[i]=dat.WS_ms_Avg\n",
      "    Summary_info['Zenith'].loc[i]=dat.Zenith\n",
      "    Summary_info['Azimuth'].loc[i]=dat.Azimuth\n",
      "    Summary_info['5_deg_isc'].loc[i]=dat['C_1.1']\n",
      "    Summary_info['15_deg_isc'].loc[i]=dat['C_2.1']\n",
      "    Summary_info['30_deg_isc'].loc[i]=dat['C_3.1']\n",
      "    Summary_info['57_deg_isc'].loc[i]=dat['C_4.1']\n",
      "Summary_info=Summary_info.sortlevel(0)\n"
     ],
     "language": "python",
     "metadata": {},
     "outputs": []
    },
    {
     "cell_type": "heading",
     "level": 1,
     "metadata": {},
     "source": [
      "Save Summary Info to .csv and .h5"
     ]
    },
    {
     "cell_type": "code",
     "collapsed": false,
     "input": [
      "Summary_info.to_csv('Summary_info.csv')"
     ],
     "language": "python",
     "metadata": {},
     "outputs": []
    },
    {
     "cell_type": "code",
     "collapsed": false,
     "input": [
      "stre=pd.HDFStore('Master_spec.h5')\n",
      "#Summary_info=stre['Summary']\n",
      "\n",
      "stre['Summary']=Summary_info\n",
      "stre.close()"
     ],
     "language": "python",
     "metadata": {},
     "outputs": []
    },
    {
     "cell_type": "heading",
     "level": 1,
     "metadata": {},
     "source": [
      "Plot Summary Info"
     ]
    },
    {
     "cell_type": "code",
     "collapsed": false,
     "input": [
      "%matplotlib osx\n",
      "clf()\n",
      "Summary_info.xs(90,level='Position').Pyranometer_Global.plot()\n",
      "Summary_info.xs(90,level='Position').Spectral_energy.plot()\n",
      "\n",
      "xlabel('Date')\n",
      "ylabel('Irradiance(W/m^2)')\n",
      "legend(['Integrated Spectra','Pyranometer GHI'])"
     ],
     "language": "python",
     "metadata": {},
     "outputs": []
    }
   ],
   "metadata": {}
  }
 ]
}